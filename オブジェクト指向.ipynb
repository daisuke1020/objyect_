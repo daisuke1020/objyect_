{
 "cells": [
  {
   "cell_type": "markdown",
   "id": "c9e8b266-38fb-4547-80fd-80c3d6fc0b27",
   "metadata": {},
   "source": [
    "オブジェクト指向の活用"
   ]
  },
  {
   "cell_type": "markdown",
   "id": "138f750b-3506-4335-b95e-cb8549e09efa",
   "metadata": {},
   "source": [
    "《サンプルコード》"
   ]
  },
  {
   "cell_type": "code",
   "execution_count": 2,
   "id": "78b927eb-9787-43aa-9977-a89d279a1e56",
   "metadata": {},
   "outputs": [
    {
     "name": "stdout",
     "output_type": "stream",
     "text": [
      "平均 : [4.86 3.31 1.45 0.22]\n",
      "分散 : [0.0764 0.0849 0.0105 0.0056]\n"
     ]
    }
   ],
   "source": [
    "import numpy as np\n",
    "from sklearn.preprocessing import StandardScaler\n",
    "from sklearn.datasets import load_iris\n",
    "data = load_iris()\n",
    "X = data.data[:10]\n",
    "scaler = StandardScaler()\n",
    "scaler0 = StandardScaler()\n",
    "scaler1 = StandardScaler()\n",
    "scaler2 = StandardScaler()\n",
    "scaler.fit(X)\n",
    "print(\"平均 :\", scaler.mean_)\n",
    "print(\"分散 :\", scaler.var_)\n",
    "X_std = scaler.transform(X)"
   ]
  },
  {
   "cell_type": "markdown",
   "id": "004efa99-5a9e-4286-aacb-a3b513fb03dd",
   "metadata": {},
   "source": [
    "【問題1】これまで利用してきたクラスの列挙"
   ]
  },
  {
   "cell_type": "markdown",
   "id": "0c7d689a-8db3-4062-8f3f-68d637cbe868",
   "metadata": {},
   "source": [
    "クラスを使う際はインスタンス化を行うことと、クラスの命名法がわかりました。この情報を元に、これまでの課題で利用してきたコードの中でどのようなクラスがあったかを答えてください。"
   ]
  },
  {
   "cell_type": "markdown",
   "id": "a3c4b3af-56c6-45b5-a8a1-d84416c74abd",
   "metadata": {},
   "source": [
    "Pandas、matplotlib、scikit-learnからそれぞれ1つ以上見つけてください。"
   ]
  },
  {
   "cell_type": "markdown",
   "id": "ca1bd5d0-adcf-44ea-931a-123fd37b20a3",
   "metadata": {},
   "source": [
    "[pandas]\n",
    "  DataFrame\n",
    "  Series"
   ]
  },
  {
   "cell_type": "markdown",
   "id": "9bcc7883-1cf6-4c68-8679-4c0c9d55066b",
   "metadata": {},
   "source": [
    "[matplotlib]\n",
    "  Figure\n",
    "  Axes"
   ]
  },
  {
   "cell_type": "markdown",
   "id": "eeafdf56-dea7-4d08-b06f-32e4ee334fe1",
   "metadata": {},
   "source": [
    "[scikit-learn]\n",
    "  LogisticRegression\n",
    "  KNeighborsClassifier"
   ]
  },
  {
   "cell_type": "markdown",
   "id": "0d2bf9fd-88bc-4010-a721-eccb53d19d7d",
   "metadata": {},
   "source": [
    "【問題2】これまで利用してきたメソッドやインスタンス変数の列挙"
   ]
  },
  {
   "cell_type": "markdown",
   "id": "8fcf0652-aa62-4c73-8ea2-a3f04b4e74c0",
   "metadata": {},
   "source": [
    "これまでの課題で利用してきたコードの中でどのようなメソッドやインスタンス変数があったかを答えてください。\n",
    "\n",
    "最低でもそれぞれ5つ以上答えてください。"
   ]
  },
  {
   "cell_type": "markdown",
   "id": "8ab44609-aaef-47a1-89aa-6c8d39e7e9c4",
   "metadata": {},
   "source": [
    "メソッド"
   ]
  },
  {
   "cell_type": "markdown",
   "id": "67854727-7c90-4a36-b8e8-e2432ace3174",
   "metadata": {},
   "source": [
    "mean()\n",
    "min()\n",
    "max()\n",
    "rename()\n",
    "seed()"
   ]
  },
  {
   "cell_type": "markdown",
   "id": "d4520a69-f6ed-41d1-8ab0-4c1ea03df58e",
   "metadata": {},
   "source": [
    "インスタンス変数"
   ]
  },
  {
   "cell_type": "markdown",
   "id": "6161702e-1636-4abe-a8ec-0b8a1c4bf00b",
   "metadata": {},
   "source": [
    "T\n",
    "value\n",
    "shape\n",
    "fig\n",
    "scaler"
   ]
  },
  {
   "cell_type": "markdown",
   "id": "f70701f3-9d2f-4e76-8414-01e24f753e1b",
   "metadata": {},
   "source": [
    "【問題3】標準化クラスをスクラッチで作成"
   ]
  },
  {
   "cell_type": "markdown",
   "id": "6106a272-7631-415e-9cc1-b1d23eb56dab",
   "metadata": {},
   "source": [
    "理解をより深めるため、StandardScalerをスクラッチで作成しましょう。scikit-learnは使わず、NumPyなどを活用して標準化の計算を記述します。具体的にはfitメソッドとtransformメソッドを作ります。"
   ]
  },
  {
   "cell_type": "code",
   "execution_count": 12,
   "id": "df18f122-3e8d-49d2-a4b8-026e59edc071",
   "metadata": {},
   "outputs": [],
   "source": [
    "class ScratchStandardScaler():\n",
    "    \"\"\"\n",
    "    標準化のためのクラス\n",
    "    Attributes\n",
    "    ----------\n",
    "    mean_ : 次の形のndarray, shape(n_features,)\n",
    "        平均\n",
    "    var_ : 次の形のndarray, shape(n_features,)\n",
    "        分散\n",
    "    \"\"\"\n",
    "    def fit(self, X):\n",
    "        \"\"\"\n",
    "        標準化のために平均と標準偏差を計算する。\n",
    "        Parameters\n",
    "        ----------\n",
    "        X : 次の形のndarray, shape (n_samples, n_features)\n",
    "            訓練データ\n",
    "        \"\"\"\n",
    "        #配列の列平均を求めて代入する\n",
    "        self.mean_ = np.mean(X,axis=0)\n",
    "        #配列の列の分散を求める\n",
    "        self.var_ = np.var(X,axis=0)\n",
    "        pass\n",
    "    \n",
    "    def transform(self, X):\n",
    "        \"\"\"\n",
    "        fitで求めた値を使い標準化を行う。\n",
    "        Parameters\n",
    "        ----------\n",
    "        X : 次の形のndarray, shape (n_samples, n_features)\n",
    "            特徴量\n",
    "        Returns\n",
    "        ----------\n",
    "        X_scaled : 次の形のndarray, shape (n_samples, n_features)\n",
    "            標準化された特緒量\n",
    "        \"\"\"\n",
    "        #標準化する\n",
    "        mu = self.mean_             #平均値\n",
    "        sigma = np.std(X,axis=0)    #標準偏差\n",
    "        X_scaled = (X - mu)/ sigma  #標準化する式\n",
    "        pass\n",
    "        return X_scaled"
   ]
  },
  {
   "cell_type": "markdown",
   "id": "36c0188e-be94-47a5-be49-0981c913b1d2",
   "metadata": {},
   "source": [
    "以下のコードが実行できるようにしましょう。"
   ]
  },
  {
   "cell_type": "code",
   "execution_count": 13,
   "id": "49c82276-e3e9-4bd3-b718-466755f0e86f",
   "metadata": {},
   "outputs": [
    {
     "name": "stdout",
     "output_type": "stream",
     "text": [
      "平均 : [4.86 3.31 1.45 0.22]\n",
      "分散 : [0.0764 0.0849 0.0105 0.0056]\n",
      "[[ 0.86828953  0.65207831 -0.48795004 -0.26726124]\n",
      " [ 0.14471492 -1.06391725 -0.48795004 -0.26726124]\n",
      " [-0.57885968 -0.37751902 -1.46385011 -0.26726124]\n",
      " [-0.94064699 -0.72071813  0.48795004 -0.26726124]\n",
      " [ 0.50650222  0.99527742 -0.48795004 -0.26726124]\n",
      " [ 1.95365143  2.02487476  2.43975018  2.40535118]\n",
      " [-0.94064699  0.3088792  -0.48795004  1.06904497]\n",
      " [ 0.50650222  0.3088792   0.48795004 -0.26726124]\n",
      " [-1.66422159 -1.40711636 -0.48795004 -0.26726124]\n",
      " [ 0.14471492 -0.72071813  0.48795004 -1.60356745]]\n"
     ]
    }
   ],
   "source": [
    "import numpy as np\n",
    "from sklearn.datasets import load_iris\n",
    "data = load_iris()\n",
    "X = data.data[:10]\n",
    "scratch_scaler = ScratchStandardScaler()\n",
    "scratch_scaler.fit(X)\n",
    "print(\"平均 : {}\".format(scratch_scaler.mean_))\n",
    "print(\"分散 : {}\".format(scratch_scaler.var_))\n",
    "X_std = scratch_scaler.transform(X)\n",
    "print(X_std)"
   ]
  },
  {
   "cell_type": "markdown",
   "id": "4b6abbd3-2f8f-4337-bc76-1d0c1a530679",
   "metadata": {},
   "source": [
    "【問題4】 四則演算を行うクラスの作成"
   ]
  },
  {
   "cell_type": "markdown",
   "id": "31ebbb43-602e-411c-a2cb-38aaa5f833a0",
   "metadata": {},
   "source": [
    "ExampleClassは足し算のメソッドを持っていますが、これに引き算、掛け算、割り算のメソッドを加えてください。\n",
    "\n",
    "コンストラクタに入力されたvalueが文字列や配列など数値以外だった場合にはエラーを出すようにしてください。\n",
    "\n",
    "クラス名や説明文も適切に書き換えてください。"
   ]
  },
  {
   "cell_type": "code",
   "execution_count": 37,
   "id": "518dd4b8-7e5b-4b78-b3f8-356c05f4575d",
   "metadata": {},
   "outputs": [
    {
     "name": "stdout",
     "output_type": "stream",
     "text": [
      "初期値5が設定されました\n",
      "value : 5\n",
      "value : 8\n",
      "初期値5が設定されました\n",
      "value : 2\n",
      "初期値5が設定されました\n",
      "value : 15\n",
      "初期値5が設定されました\n",
      "value : 1.6666666666666667\n",
      "ERROR\n"
     ]
    }
   ],
   "source": [
    "class ExampleClass():\n",
    "    \"\"\"\n",
    "    説明用の簡単なクラス\n",
    "    Parameters\n",
    "    ----------\n",
    "    value : float or int\n",
    "        初期値\n",
    "    Attributes\n",
    "    ----------\n",
    "    value : float or int\n",
    "        計算結果\n",
    "    \"\"\"\n",
    "    def __init__(self, value):   #コンストラクタ \n",
    "        self.value = value\n",
    "        try:\n",
    "            if value <= 0 or value > 0:\n",
    "                print(\"初期値{}が設定されました\".format(self.value))       \n",
    "        except TypeError:\n",
    "            print(\"ERROR\")\n",
    "            \n",
    "    #足し算のメソッド    \n",
    "    def add(self, value2):\n",
    "        \"\"\"\n",
    "        受け取った引数をself.valueに加える\n",
    "        \"\"\"\n",
    "        self.value += value2\n",
    "    #引き算のメソッド\n",
    "    def sub(self, value3):\n",
    "        \"\"\"\n",
    "        受け取った引数をself.valueから引く\n",
    "        \"\"\"\n",
    "        self.value -= value3\n",
    "    #掛け算のメソッド\n",
    "    def mul(self, value4):\n",
    "        \"\"\"\n",
    "        受け取った引数をself.valueにかける掛ける\n",
    "        \"\"\"\n",
    "        self.value *= value4\n",
    "    #割り算のメソッド\n",
    "    def div(self, value5):\n",
    "        \"\"\"\n",
    "        受け取った引数をself.valueで割る\n",
    "        \"\"\"\n",
    "        self.value /= value5\n",
    "        \n",
    "example = ExampleClass(5)\n",
    "print(\"value : {}\".format(example.value))\n",
    "example.add(3)\n",
    "print(\"value : {}\".format(example.value))\n",
    "example = ExampleClass(5)\n",
    "example.sub(3)\n",
    "print(\"value : {}\".format(example.value))\n",
    "example = ExampleClass(5)\n",
    "example.mul(3)\n",
    "print(\"value : {}\".format(example.value))\n",
    "example = ExampleClass(5)\n",
    "example.div(3)\n",
    "print(\"value : {}\".format(example.value))\n",
    "example = ExampleClass(\"hello\")"
   ]
  }
 ],
 "metadata": {
  "kernelspec": {
   "display_name": "Python 3",
   "language": "python",
   "name": "python3"
  },
  "language_info": {
   "codemirror_mode": {
    "name": "ipython",
    "version": 3
   },
   "file_extension": ".py",
   "mimetype": "text/x-python",
   "name": "python",
   "nbconvert_exporter": "python",
   "pygments_lexer": "ipython3",
   "version": "3.8.8"
  }
 },
 "nbformat": 4,
 "nbformat_minor": 5
}
